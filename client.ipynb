{
 "cells": [
  {
   "cell_type": "code",
   "execution_count": null,
   "metadata": {},
   "outputs": [],
   "source": [
    "import asyncio\n",
    "import httpx\n",
    "\n",
    "# Define the endpoint for the containerized API\n",
    "API_URL = \"http://localhost:8000/inference\"  # Update the URL and endpoint as needed\n",
    "\n",
    "# Example data to send in the POST request\n",
    "PAYLOAD = {\"input\": \"This is a test input for the model.\"}\n",
    "\n",
    "# Number of parallel requests\n",
    "NUM_REQUESTS = 10\n",
    "\n",
    "\n",
    "async def send_request(client: httpx.AsyncClient, request_id: int):\n",
    "    \"\"\"Send a single POST request to the containerized API and print the response.\"\"\"\n",
    "    try:\n",
    "        response = await client.post(API_URL, json=PAYLOAD)\n",
    "        print(f\"Request {request_id}: Status {response.status_code}, Response: {response.json()}\")\n",
    "    except Exception as e:\n",
    "        print(f\"Request {request_id}: Failed with error: {e}\")\n",
    "\n",
    "\n",
    "async def main():\n",
    "    \"\"\"Send multiple POST requests in parallel.\"\"\"\n",
    "    async with httpx.AsyncClient() as client:\n",
    "        tasks = [send_request(client, i) for i in range(NUM_REQUESTS)]\n",
    "        await asyncio.gather(*tasks)\n",
    "\n",
    "\n",
    "if __name__ == \"__main__\":\n",
    "    asyncio.run(main())\n"
   ]
  }
 ],
 "metadata": {
  "language_info": {
   "name": "python"
  }
 },
 "nbformat": 4,
 "nbformat_minor": 2
}
