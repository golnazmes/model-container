{
 "cells": [
  {
   "cell_type": "markdown",
   "metadata": {},
   "source": [
    "## Model Deployment Testing Notebook\n",
    "\n",
    "This notebook demonstrates:\n",
    " - Testing a local API endpoint for inference.\n",
    " - Testing the API hosted in a Docker container.\n",
    " - Sending parallel requests to evaluate the API's performance under load."
   ]
  },
  {
   "cell_type": "code",
   "execution_count": 37,
   "metadata": {},
   "outputs": [],
   "source": [
    "import requests\n",
    "import json\n",
    "\n",
    "from concurrent.futures import ThreadPoolExecutor\n",
    "import asyncio\n",
    "import aiohttp\n",
    "import nest_asyncio"
   ]
  },
  {
   "cell_type": "markdown",
   "metadata": {},
   "source": [
    "**1. Test the local API**"
   ]
  },
  {
   "cell_type": "code",
   "execution_count": 38,
   "metadata": {},
   "outputs": [
    {
     "name": "stdout",
     "output_type": "stream",
     "text": [
      "CPU times: user 0 ns, sys: 5.37 ms, total: 5.37 ms\n",
      "Wall time: 61.7 ms\n",
      "Full Response: {'prediction': [{'label': 'positive', 'score': 0.9680546522140503}]}\n"
     ]
    }
   ],
   "source": [
    "# Define the local API URL and input data\n",
    "local_url = 'http://127.0.0.1:8000/infer'\n",
    "test_data = {'input': 'I am satisfied with the new shoes I bought from the store.'}\n",
    "\n",
    "# Send a POST request to the local API\n",
    "%time response = requests.post(local_url, data=json.dumps(test_data), headers={'Content-Type': 'application/json'})\n",
    "\n",
    "# Print the complete response\n",
    "print(\"Full Response:\", response.json())\n"
   ]
  },
  {
   "cell_type": "code",
   "execution_count": 39,
   "metadata": {},
   "outputs": [
    {
     "name": "stdout",
     "output_type": "stream",
     "text": [
      "Predicted Label: positive\n",
      "Confidence Score: 0.9680546522140503\n"
     ]
    }
   ],
   "source": [
    "# Extract specific fields from the response\n",
    "label = json.loads(response.text)['prediction'][0]['label']\n",
    "score = json.loads(response.text)['prediction'][0]['score']\n",
    "print(f\"Predicted Label: {label}\")\n",
    "print(f\"Confidence Score: {score}\")"
   ]
  },
  {
   "cell_type": "markdown",
   "metadata": {},
   "source": [
    "**2. Test the local dockerized api**"
   ]
  },
  {
   "cell_type": "code",
   "execution_count": 40,
   "metadata": {},
   "outputs": [
    {
     "name": "stdout",
     "output_type": "stream",
     "text": [
      "CPU times: user 3.77 ms, sys: 1.16 ms, total: 4.92 ms\n",
      "Wall time: 36.9 ms\n",
      "Full Response: {'prediction': [{'label': 'negative', 'score': 0.8943052291870117}]}\n"
     ]
    }
   ],
   "source": [
    "docker_url = 'http://0.0.0.0:8000/infer'\n",
    "docker_test_data = {'input': 'I am not satisfied with the new shoes I bought from the store.'}\n",
    "\n",
    "# Send a POST request to the Dockerized API\n",
    "%time response = requests.post(docker_url, data=json.dumps(docker_test_data), headers={'Content-Type': 'application/json'})\n",
    "\n",
    "# Print the complete response\n",
    "print(\"Full Response:\", response.json())"
   ]
  },
  {
   "cell_type": "markdown",
   "metadata": {},
   "source": [
    "\n",
    "**3. Parallel Requests, Dockerized API**"
   ]
  },
  {
   "cell_type": "code",
   "execution_count": 41,
   "metadata": {},
   "outputs": [
    {
     "name": "stdout",
     "output_type": "stream",
     "text": [
      "Sending 10 parallel requests to the Dockerized API...\n",
      "\n"
     ]
    },
    {
     "name": "stdout",
     "output_type": "stream",
     "text": [
      "Status Code: 200, Response: {'prediction': [{'label': 'positive', 'score': 0.9823362231254578}]}\n",
      "Status Code: 200, Response: {'prediction': [{'label': 'positive', 'score': 0.9823362231254578}]}\n",
      "Status Code: 200, Response: {'prediction': [{'label': 'positive', 'score': 0.9823362231254578}]}\n",
      "Status Code: 200, Response: {'prediction': [{'label': 'positive', 'score': 0.9823362231254578}]}\n",
      "Status Code: 200, Response: {'prediction': [{'label': 'positive', 'score': 0.9823362231254578}]}\n",
      "Status Code: 200, Response: {'prediction': [{'label': 'positive', 'score': 0.9823362231254578}]}\n",
      "Status Code: 200, Response: {'prediction': [{'label': 'positive', 'score': 0.9823362231254578}]}\n",
      "Status Code: 200, Response: {'prediction': [{'label': 'positive', 'score': 0.9823362231254578}]}\n",
      "Status Code: 200, Response: {'prediction': [{'label': 'positive', 'score': 0.9823362231254578}]}\n",
      "Status Code: 200, Response: {'prediction': [{'label': 'positive', 'score': 0.9823362231254578}]}\n"
     ]
    }
   ],
   "source": [
    "# Define a function to make a single POST request\n",
    "def make_request():\n",
    "    response = requests.post(docker_url, json=payload)\n",
    "    print(f\"Status Code: {response.status_code}, Response: {response.json()}\")\n",
    "\n",
    "# Define the payload and send 10 parallel requests\n",
    "payload = {\"input\": \"I love these shoes!\"}\n",
    "print(\"Sending 10 parallel requests to the Dockerized API...\\n\")\n",
    "\n",
    "with ThreadPoolExecutor(max_workers=10) as executor:\n",
    "    futures = [executor.submit(make_request) for _ in range(10)]\n",
    "\n",
    "\n"
   ]
  },
  {
   "cell_type": "code",
   "execution_count": 42,
   "metadata": {},
   "outputs": [
    {
     "name": "stdout",
     "output_type": "stream",
     "text": [
      "Sending 10 parallel requests to the Dockerized API...\n",
      "\n",
      "Status Code: 200, Response: {'prediction': [{'label': 'positive', 'score': 0.9823362231254578}]}\n",
      "Status Code: 200, Response: {'prediction': [{'label': 'positive', 'score': 0.9823362231254578}]}\n",
      "Status Code: 200, Response: {'prediction': [{'label': 'positive', 'score': 0.9823362231254578}]}\n",
      "Status Code: 200, Response: {'prediction': [{'label': 'positive', 'score': 0.9823362231254578}]}\n",
      "Status Code: 200, Response: {'prediction': [{'label': 'positive', 'score': 0.9823362231254578}]}\n",
      "Status Code: 200, Response: {'prediction': [{'label': 'positive', 'score': 0.9823362231254578}]}\n",
      "Status Code: 200, Response: {'prediction': [{'label': 'positive', 'score': 0.9823362231254578}]}\n",
      "Status Code: 200, Response: {'prediction': [{'label': 'positive', 'score': 0.9823362231254578}]}\n",
      "Status Code: 200, Response: {'prediction': [{'label': 'positive', 'score': 0.9823362231254578}]}\n",
      "Status Code: 200, Response: {'prediction': [{'label': 'positive', 'score': 0.9823362231254578}]}\n"
     ]
    }
   ],
   "source": [
    "nest_asyncio.apply()  # Allow running nested event loops in Jupyter Notebook\n",
    "\n",
    "async def make_request(session):\n",
    "    async with session.post(docker_url, json=payload) as response:\n",
    "        result = await response.json()\n",
    "        print(f\"Status Code: {response.status}, Response: {result}\")\n",
    "\n",
    "async def send_parallel_requests():\n",
    "    async with aiohttp.ClientSession() as session:\n",
    "        tasks = []\n",
    "        for _ in range(10):\n",
    "            task = asyncio.create_task(make_request(session))\n",
    "            tasks.append(task)\n",
    "        await asyncio.gather(*tasks)\n",
    "\n",
    "# Define the payload and send 10 parallel requests\n",
    "payload = {\"input\": \"I love these shoes!\"}\n",
    "print(\"Sending 10 parallel requests to the Dockerized API...\\n\")\n",
    "\n",
    "# Run the event loop to send parallel requests\n",
    "loop = asyncio.get_event_loop()\n",
    "loop.run_until_complete(send_parallel_requests())"
   ]
  }
 ],
 "metadata": {
  "kernelspec": {
   "display_name": "venv",
   "language": "python",
   "name": "python3"
  },
  "language_info": {
   "codemirror_mode": {
    "name": "ipython",
    "version": 3
   },
   "file_extension": ".py",
   "mimetype": "text/x-python",
   "name": "python",
   "nbconvert_exporter": "python",
   "pygments_lexer": "ipython3",
   "version": "3.11.6"
  }
 },
 "nbformat": 4,
 "nbformat_minor": 2
}
